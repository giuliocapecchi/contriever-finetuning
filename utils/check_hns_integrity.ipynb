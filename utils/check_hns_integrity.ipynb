{
 "cells": [
  {
   "cell_type": "code",
   "execution_count": null,
   "metadata": {},
   "outputs": [],
   "source": [
    "import json\n",
    "\n",
    "def load_jsonl(file_path):\n",
    "    \"\"\"Reads a JSONL file and returns a dictionary.\"\"\"\n",
    "    data = {}\n",
    "    with open(file_path, 'r', encoding='utf-8') as f:\n",
    "        for line in f:\n",
    "            entry = json.loads(line.strip())\n",
    "            entry_id = entry.pop('question') # each entry has an unique 'question' field\n",
    "            data[entry_id] = entry\n",
    "    return data"
   ]
  },
  {
   "cell_type": "code",
   "execution_count": null,
   "metadata": {},
   "outputs": [],
   "source": [
    "dataset = 'INSERT_DATASET_NAME_HERE'\n",
    "data = load_jsonl(f'../beir_datasets/{dataset}/training_data.jsonl')"
   ]
  },
  {
   "cell_type": "code",
   "execution_count": null,
   "metadata": {},
   "outputs": [],
   "source": [
    "problematic_matches = 0\n",
    "for elem in data.values():\n",
    "    for p in elem['positive_ctxs']:\n",
    "        for hn in elem.get('hard_negative_ctxs', []):\n",
    "            if p['title'] + \" \" + p['text'] == hn['title'] + \" \" + hn['text']:\n",
    "                print(\"Found a problematic match!\")\n",
    "                print(\"POSITIVE:\\n\",p['title'][:50] + \" | \" + p[\"text\"][:50])\n",
    "                print(\"HN:\\n\",hn['title'][:50] + \" | \" + hn[\"text\"][:50])\n",
    "                problematic_matches += 1\n",
    "                break\n",
    "    if problematic_matches > 0:\n",
    "        break\n",
    "\n",
    "print(f\"Number of problematic matches: {problematic_matches}, which is {problematic_matches/len(data)*100:.2f}% of the dataset.\")"
   ]
  },
  {
   "cell_type": "code",
   "execution_count": null,
   "metadata": {},
   "outputs": [],
   "source": [
    "print(f\"The training data is composed of {len(data)} entries.\")\n",
    "list(data.items())[0]"
   ]
  }
 ],
 "metadata": {
  "kernelspec": {
   "display_name": "uv-venv",
   "language": "python",
   "name": "python3"
  },
  "language_info": {
   "codemirror_mode": {
    "name": "ipython",
    "version": 3
   },
   "file_extension": ".py",
   "mimetype": "text/x-python",
   "name": "python",
   "nbconvert_exporter": "python",
   "pygments_lexer": "ipython3",
   "version": "3.10.12"
  }
 },
 "nbformat": 4,
 "nbformat_minor": 2
}
