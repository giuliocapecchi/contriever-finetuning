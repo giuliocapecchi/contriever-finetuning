{
 "cells": [
  {
   "cell_type": "code",
   "execution_count": 1,
   "metadata": {},
   "outputs": [],
   "source": [
    "import os\n",
    "import json\n",
    "\n",
    "\n",
    "def load_jsonl(file_path):\n",
    "    \"\"\"Reads a JSONL file and returns a dictionary.\"\"\"\n",
    "    data = {}\n",
    "    with open(file_path, 'r', encoding='utf-8') as f:\n",
    "        for line in f:\n",
    "            entry = json.loads(line.strip())\n",
    "            entry_id = entry.pop('question') # each entry has an unique 'question' field\n",
    "            data[entry_id] = entry\n",
    "    return data"
   ]
  },
  {
   "cell_type": "code",
   "execution_count": null,
   "metadata": {},
   "outputs": [],
   "source": [
    "model_names = ['contriever-base-msmarco', 'e5-base-v2', 'msmarco-distilbert-base-tas-b']\n",
    "datasets = [\"scifact\", \"nfcorpus\", \"fiqa\", \"legalbenchrag\", \"hotpotqa\", \"fever\", \"nq-train\"]"
   ]
  },
  {
   "cell_type": "code",
   "execution_count": 3,
   "metadata": {},
   "outputs": [
    {
     "name": "stdout",
     "output_type": "stream",
     "text": [
      "[contriever-base-msmarco] [scifact] Number of problematic matches: 0, which is 0.00% of the dataset.\n",
      "[e5-base-v2] [scifact] Number of problematic matches: 0, which is 0.00% of the dataset.\n",
      "[msmarco-distilbert-base-tas-b] [scifact] Number of problematic matches: 0, which is 0.00% of the dataset.\n"
     ]
    }
   ],
   "source": [
    "for model_name in model_names:\n",
    "    for dataset in datasets:\n",
    "        path = f\"../beir_datasets/{dataset}/{model_name}/training_data.jsonl\"\n",
    "        if not os.path.exists(path):\n",
    "            print(f\"{dataset} not preprocessed with {model_name}. Skipping...\")\n",
    "            continue\n",
    "        data = load_jsonl(path)\n",
    "        problematic_matches = 0\n",
    "        for elem in data.values():\n",
    "            for p in elem['positive_ctxs']:\n",
    "                for hn in elem.get('hard_negative_ctxs', []):\n",
    "                    if p['title'] + \" \" + p['text'] == hn['title'] + \" \" + hn['text']:\n",
    "                        print(\"Found a problematic match!\")\n",
    "                        print(\"POSITIVE:\\n\",p['title'][:50] + \" | \" + p[\"text\"][:50])\n",
    "                        print(\"HN:\\n\",hn['title'][:50] + \" | \" + hn[\"text\"][:50])\n",
    "                        problematic_matches += 1\n",
    "                        break\n",
    "            if problematic_matches > 0:\n",
    "                break\n",
    "\n",
    "        print(f\"[{model_name}] [{dataset}] Number of problematic matches: {problematic_matches}, which is {problematic_matches/len(data)*100:.2f}% of the dataset.\")"
   ]
  },
  {
   "cell_type": "code",
   "execution_count": null,
   "metadata": {},
   "outputs": [
    {
     "name": "stdout",
     "output_type": "stream",
     "text": [
      "The training data is composed of 646 entries.\n"
     ]
    },
    {
     "data": {
      "text/plain": [
       "('70% of burn patients are admitted for hospitalization and further treatment after appearing at hospital emergency wards or outpatient clinics.',\n",
       " {'positive_ctxs': [{'title': 'ABC of burns. Introduction.',\n",
       "    'text': 'Burns are one of the most devastating conditions encountered in medicine. The injury represents an assault on all aspects of the patient, from the physical to the psychological. It affects all ages, from babies to elderly people, and is a problem in both the developed and developing world. All of us have experienced the severe pain that even a small burn can bring. However the pain and distress caused by a large burn are not limited to the immediate event. The visible physical and the invisible psychological scars are long lasting and often lead to chronic disability. Burn injuries represent a diverse and varied challenge to medical and paramedical staff. Correct management requires a skilled multidisciplinary approach that addresses all the problems facing a burn patient. This series provides an overview of the most important aspects of burn injuries for hospital and non-hospital healthcare workers.\\u200bworkers. Figure 1    Top: Child with 70% full thickness burns, which required resuscitation, intensive care support, and extensive debridement and skin grafting. Left: The same child one year later at a burns camp, having made a good recovery. A reasonable outcome is possible ...'}],\n",
       "  'hard_negative_ctxs': [{'title': 'Place of care in advanced cancer: a qualitative systematic literature review of patient preferences.',\n",
       "    'text': \"BACKGROUND It is commonly written that more patients wish to die at home than currently achieve this. However, the evidence for preferences for place of terminal care and death has not been systematically reviewed. AIM To carry out a systematic literature review of the preferences for place of care and death among advanced cancer patients. METHOD Studies were identified using systematic database searches of MEDLINE (1966-1999), PsychLit (1974-1999), and Bath Information Data Service (BIDS) (1981-1999). Studies were assessed and data extracted and synthesises following the NHS Centre for Reviews and Dissemination guidelines, grading studies according to design and rigor of methods. Studies of preferences in the general population and of groups including cancer patients and/or their caregivers were included. RESULTS Eighteen studies determining preferences in either the general population or groups including cancer patients were identified. Views were obtained prospectively and retrospectively from patients, the general population, families, and professionals. Respondents indicated preferences for home death (range 49%-100%), except one study of patients in the care of a continuing care team in London where only 25%-29% of patients wanted a home death, and inpatient hospice was the most favored option. However, the response rate of this study was not known. Among the general public there was a higher preference for inpatient hospice care among in people with recent experience of a close friend or relative's death or dying. Where the views of patients, families, and professionals were compared, all respondents broadly agreed although patients expressed the strongest home preferences. Only 2 of the studies provided longitudinal data, and 9 of the 18 had major deficits in design or reporting, such as poor or unknown response rate, unclear or unsystematic methods of eliciting preferences or other sample or measurement bias. However, sensitivity analysis of only the more robust and larger studies did not alter the finding of a preference for home care at the end of life in over 50% of patients. CONCLUSIONS Home care is the most common preference, with inpatient hospice care as second preference in advanced illness. Meeting these preferences could be important outcomes for services. Study designs in this area need to be improved.\"},\n",
       "   {'title': 'Randomized clinical study of Hydrofiber dressing with silver or silver sulfadiazine in the management of partial-thickness burns.',\n",
       "    'text': 'This prospective, randomized study compared protocols of care using either AQUACEL Ag Hydrofiber (ConvaTec, a Bristol-Myers Squibb company, Skillman, NJ) dressing with silver (n = 42) or silver sulfadiazine (n = 42) for up to 21 days in the management of partial-thickness burns covering 5% to 40% body surface area (BSA). AQUACEL Ag dressing was associated with less pain and anxiety during dressing changes, less burning and stinging during wear, fewer dressing changes, less nursing time, and fewer procedural medications. Silver sulfadiazine was associated with greater flexibility and ease of movement. Adverse events, including infection, were comparable between treatment groups. The AQUACEL Ag dressing protocol tended to have lower total treatment costs (Dollars 1040 vs. Dollars 1180) and a greater rate of re-epithelialization (73.8% vs 60.0%), resulting in cost-effectiveness per burn healed of Dollars 1,409.06 for AQUACEL Ag dressing and Dollars 1,967.95 for silver sulfadiazine. A protocol of care with AQUACEL(R) Ag provided clinical and economic benefits compared with silver sulfadiazine in patients with partial-thickness burns.'},\n",
       "   {'title': 'Economic implications of nighttime attending intensivist coverage in a medical intensive care unit.',\n",
       "    'text': 'OBJECTIVE Our objective was to assess the cost implications of changing the intensive care unit staffing model from on-demand presence to mandatory 24-hr in-house critical care specialist presence. DESIGN A pre-post comparison was undertaken among the prospectively assessed cohorts of patients admitted to our medical intensive care unit 1 yr before and 1 yr after the change. Our data were stratified by Acute Physiology and Chronic Health Evaluation III quartile and whether a patient was admitted during the day or at night. Costs were modeled using a generalized linear model with log-link and γ-distributed errors. SETTING A large academic center in the Midwest. PATIENTS All patients admitted to the adult medical intensive care unit on or after January 1, 2005 and discharged on or before December 31, 2006. Patients receiving care under both staffing models were excluded. INTERVENTION Changing the intensive care unit staffing model from on-demand presence to mandatory 24-hr in-house critical care specialist presence. MEASUREMENTS AND MAIN RESULTS Total cost estimates of hospitalization were calculated for each patient starting from the day of intensive care unit admission to the day of hospital discharge. Adjusted mean total cost estimates were 61% lower in the post period relative to the pre period for patients admitted during night hours (7 pm to 7 am) who were in the highest Acute Physiology and Chronic Health Evaluation III quartile. No significant differences were seen at other severity levels. The unadjusted intensive care unit length of stay fell in the post period relative to the pre period (3.5 vs. 4.8) with no change in non-intensive care unit length of stay. CONCLUSIONS We find that 24-hr intensive care unit intensivist staffing reduces lengths of stay and cost estimates for the sickest patients admitted at night. The costs of introducing such a staffing model need to be weighed against the potential total savings generated for such patients in smaller intensive care units, especially ones that predominantly care for lower-acuity patients.'},\n",
       "   {'title': 'Patient Outcomes with Teaching Versus Nonteaching Healthcare: A Systematic Review',\n",
       "    'text': \"Background  Extensive debate exists in the healthcare community over whether outcomes of medical care at teaching hospitals and other healthcare units are better or worse than those at the respective nonteaching ones. Thus, our goal was to systematically evaluate the evidence pertaining to this question. Methods and Findings  We reviewed all studies that compared teaching versus nonteaching healthcare structures for mortality or any other patient outcome, regardless of health condition. Studies were retrieved from PubMed, contact with experts, and literature cross-referencing. Data were extracted on setting, patients, data sources, author affiliations, definition of compared groups, types of diagnoses considered, adjusting covariates, and estimates of effect for mortality and for each other outcome. Overall, 132 eligible studies were identified, including 93 on mortality and 61 on other eligible outcomes (22 addressed both). Synthesis of the available adjusted estimates on mortality yielded a summary relative risk of 0.96 (95% confidence interval [CI], 0.93–1.00) for teaching versus nonteaching healthcare structures and 1.04 (95% CI, 0.99–1.10) for minor teaching versus nonteaching ones. There was considerable heterogeneity between studies (I2 = 72% for the main analysis). Results were similar in studies using clinical and those using administrative databases. No differences were seen in the 14 studies fully adjusting for volume/experience, severity, and comorbidity (relative risk 1.01). Smaller studies did not differ in their results from larger studies. Differences were seen for some diagnoses (e.g., significantly better survival for breast cancer and cerebrovascular accidents in teaching hospitals and significantly better survival from cholecystectomy in nonteaching hospitals), but these were small in magnitude. Other outcomes were diverse, but typically teaching healthcare structures did not do better than nonteaching ones. Conclusions  The available data are limited by their nonrandomized design, but overall they do not suggest that a healthcare facility's teaching status on its own markedly improves or worsens patient outcomes. Differences for specific diseases cannot be excluded, but are likely to be small.\"},\n",
       "   {'title': 'Reliability of patient responses in pay for performance schemes: analysis of national General Practitioner Patient Survey data in England',\n",
       "    'text': 'OBJECTIVE To assess the robustness of patient responses to a new national survey of patient experience as a basis for providing financial incentives to doctors. DESIGN Analysis of the representativeness of the respondents to the GP Patient Survey compared with those who were sampled (5.5 million patients registered with 8273 general practices in England in January 2009) and with the general population. Analysis of non-response bias looked at the relation between practice response rates and scores on the survey. Analysis of the reliability of the survey estimated the proportion of the variance of practice scores attributable to true differences between practices. RESULTS The overall response rate was 38.2% (2.2 million responses), which is comparable to that in surveys using similar methodology in the UK. Men, young adults, and people living in deprived areas were under-represented among respondents. However, for questions related to pay for performance, there was no systematic association between response rates and questionnaire scores. Two questions which triggered payments to general practitioners were reliable measures of practice performance, with average practice-level reliability coefficients of 93.2% and 95.0%. Less than 3% and 0.5% of practices had fewer than the number of responses required to achieve conventional reliability levels of 90% and 70%. A change to the payment formula in 2009 resulted in an increase in the average impact of random variation in patient scores on payments to general practitioners compared with payments made in 2007 and 2008. CONCLUSIONS There is little evidence to support the concern of some general practitioners that low response rates and selective non-response bias have led to systematic unfairness in payments attached to questionnaire scores. The study raises issues relating to the validity and reliability of payments based on patient surveys and provides lessons for the UK and for other countries considering the use of patient experience as part of pay for performance schemes.'}],\n",
       "  'negative_ctxs': [{'title': 'Evaluation of human papillomavirus testing in primary screening for cervical abnormalities: comparison of sensitivity, specificity, and frequency of referral.',\n",
       "    'text': 'CONTEXT Human papillomavirus (HPV) DNA testing of women having Papanicolaou (Pap) smears showing atypical squamous cells of undetermined significance (ASCUS) has clinical usefulness. Whether HPV DNA testing alone is useful in primary screening remains to be determined. OBJECTIVE To determine the accuracy of HPV DNA testing for detecting cervical intraepithelial neoplasia (CIN) grade 3 or cancer (the criterion standard). DESIGN, SETTING, AND PARTICIPANTS Between December 1997 and October 2000, 4075 women who attended Planned Parenthood clinics in Washington State were screened simultaneously using thin-layer Pap and HPV DNA testing by a polymerase chain reaction (PCR)-based method and by a liquid-based RNA-DNA hybridization capture with signal amplification assay (signal amplification). Women who were positive for high-risk HPV types, or had Pap results of ASCUS or higher, were considered to have positive screening test results and were referred for colposcopy and biopsy. Additionally, a random sample of women with negative screening test results was referred for colposcopy. Based on individual and combined thin-layer Pap, HPV PCR, and HPV signal amplification test results from the screening and the colposcopy visits, 7 colposcopy triage strategies were defined and evaluated. MAIN OUTCOME MEASURE Sensitivity and specificity for detecting cervical lesions graded CIN 3 or higher for each of the 7 triage strategies. RESULTS The estimated prevalence of CIN 3 or higher was 3.2%. The sensitivity (95% confidence interval) of thin-layer Pap (with a result of > or = ASCUS) for identifying women with CIN 3 or higher was only 61.3% (48.5%-70.9%) compared with 88.2% (78.9%-93.8%) for HPV testing by PCR and 90.8% (83.1%-95.8%) by signal amplification. Differences in specificities were also observed: 82.4% (81.8%-83.1%) for thin-layer Pap (with a result of > or = ASCUS), 78.8% (77.9%-79.7%) for PCR, and 72.6% (69.4%-75.0%) for signal amplification. Compared with referral for colposcopy of all women with ASCUS or higher, signal amplification testing of women with ASCUS and referral of those with a positive result was about as sensitive (61.3% vs 60.3%, respectively) and significantly more specific (82.4% vs 88.9%, respectively). The strategy requiring repeat positive PCR tests on 2 visits had a sensitivity of 84.2% (75.3%-91.0%) and a specificity of 86.2% (85.1%-87.3%). All tests were more specific and less sensitive in older (> or = 30 years) vs younger women. CONCLUSIONS Testing for HPV has higher sensitivity but lower specificity than thin-layer Pap screening. In some settings, particularly where screening intervals are long or haphazard, screening for HPV DNA may be a reasonable alternative to cytology-based screening of reproductive-age women.'},\n",
       "   {'title': 'The missing cases of tuberculosis in Malawi: the contribution from cross-border registrations.',\n",
       "    'text': \"Low case detection rates of new smear-positive pulmonary tuberculosis (PTB) patients globally are a cause for concern. The aim of this study was to determine for patients registered for TB in Malawi the number and percentage who lived in a neighbouring country and the registration, recording and reporting practices for these 'foreign' patients. All 44 non-private hospitals, which register and treat all TB patients in the public health sector in Malawi, were visited. Ten (23%) hospitals in 2001 and 14 (32%) in 2002 maintained a separate register for cross-border TB cases. Patients recorded in these registers were not formally reported to the Malawi National TB Programme (NTP), the neighbouring country's NTP, nor to WHO. They therefore constitute missing cases. In Malawi, the number of cross-border new smear-positive PTB cases was 77 in 2001 and 91 in 2002, constituting about 3% of missing smear-positive cases in those hospitals that maintain cross-border registers and about 1% of missing cases nationally.\"},\n",
       "   {'title': 'Cardiac myocyte remodeling mediated by N-cadherin-dependent mechanosensing.',\n",
       "    'text': 'Cell-to-cell adhesions are crucial in maintaining the structural and functional integrity of cardiac cells. Little is known about the mechanosensitivity and mechanotransduction of cell-to-cell interactions. Most studies of cardiac mechanotransduction and myofibrillogenesis have focused on cell-extracellular matrix (ECM)-specific interactions. This study assesses the direct role of intercellular adhesion, specifically that of N-cadherin-mediated mechanotransduction, on the morphology and internal organization of neonatal ventricular cardiac myocytes. The results show that cadherin-mediated cell attachments are capable of eliciting a cytoskeletal network response similar to that of integrin-mediated force response and transmission, affecting myofibrillar organization, myocyte shape, and cortical stiffness. Traction forces mediated by N-cadherin were shown to be comparable to those sustained by ECM. The directional changes in predicted traction forces as a function of imposed loads (gel stiffness) provide the added evidence that N-cadherin is a mechanoresponsive adhesion receptor. Strikingly, the mechanical sensitivity response (gain) in terms of the measured cell-spread area as a function of imposed load (adhesive substrate rigidity) was consistently higher for N-cadherin-coated surfaces compared with ECM protein-coated surfaces. In addition, the cytoskeletal architecture of myocytes on an N-cadherin adhesive microenvironment was characteristically different from that on an ECM environment, suggesting that the two mechanotransductive cell adhesion systems may play both independent and complementary roles in myocyte cytoskeletal spatial organization. These results indicate that cell-to-cell-mediated force perception and transmission are involved in the organization and development of cardiac structure and function.'},\n",
       "   {'title': 'Neutrophil extracellular traps capture and kill Candida albicans yeast and hyphal forms.',\n",
       "    'text': 'Neutrophils phagocytose and kill microbes upon phagolysosomal fusion. Recently we found that activated neutrophils form extracellular fibres that consist of granule proteins and chromatin. These neutrophil extracellular traps (NETs) degrade virulence factors and kill Gram positive and negative bacteria. Here we show for the first time that Candida albicans, a eukaryotic pathogen, induces NET-formation and is susceptible to NET-mediated killing. C. albicans is the predominant aetiologic agent of fungal infections in humans, particularly in immunocompromised hosts. One major virulence trait of C. albicans is its ability to reversibly switch from singular budding cells to filamentous hyphae. We demonstrate that NETs kill both yeast-form and hyphal cells, and that granule components mediate fungal killing. Taken together our data indicate that neutrophils trap and kill ascomycetous yeasts by forming NETs.'},\n",
       "   {'title': 'Biomarkers of endothelial dysfunction and risk of type 2 diabetes mellitus.',\n",
       "    'text': \"CONTEXT Endothelial dysfunction occurs in diagnosed type 2 diabetes mellitus but may also precede development of diabetes. OBJECTIVE To determine whether elevated plasma levels of biomarkers reflecting endothelial dysfunction (E-selectin; intercellular adhesion molecule 1 [ICAM-1]; and vascular cell adhesion molecule 1 [VCAM-1]) predict development of type 2 diabetes in initially nondiabetic women. DESIGN AND SETTING Prospective, nested case-control study within the Nurses' Health Study, an ongoing US study initiated in 1976. PARTICIPANTS Of 121 700 women initially enrolled, 32 826 provided blood samples in 1989-1990; of those free of diabetes, cardiovascular disease, or cancer at baseline, 737 developed incident diabetes by 2000. Controls (n = 785) were selected according to matched age, fasting status, and race. MAIN OUTCOME MEASURE Risk of confirmed clinically diagnosed type 2 diabetes by baseline levels of E-selectin, ICAM-1, and VCAM-1. RESULTS Baseline median levels of the biomarkers were significantly higher among cases than among controls (E-selectin, 61.2 vs 45.4 ng/mL; ICAM-1, 264.9 vs 247.0 ng/mL; VCAM-1, 545.4 vs 526.0 ng/mL [all P values < or =.004]). Elevated E-selectin and ICAM-1 levels predicted incident diabetes in logistic regression models conditioned on matching criteria and adjusted for body mass index (BMI), family history of diabetes, smoking, diet score, alcohol intake, activity index, and postmenopausal hormone use. The adjusted relative risks for incident diabetes in the top quintile vs the bottom quintiles were 5.43 for E-selectin (95% confidence interval [CI], 3.47-8.50), 3.56 for ICAM-1 (95% CI, 2.28-5.58), and 1.12 for VCAM-1 (95% CI, 0.76-1.66). Adjustment for waist circumference instead of BMI or further adjustment for baseline levels of C-reactive protein, fasting insulin, and hemoglobin A(1c) or exclusion of cases diagnosed during the first 4 years of follow-up did not alter these associations. CONCLUSION Endothelial dysfunction predicts type 2 diabetes in women independent of other known risk factors, including obesity and subclinical inflammation.\"}]})"
      ]
     },
     "execution_count": 6,
     "metadata": {},
     "output_type": "execute_result"
    }
   ],
   "source": [
    "print(f\"The training data is composed of {len(data)} entries.\")\n",
    "list(data.items())[0]"
   ]
  }
 ],
 "metadata": {
  "kernelspec": {
   "display_name": "uv-venv",
   "language": "python",
   "name": "python3"
  },
  "language_info": {
   "codemirror_mode": {
    "name": "ipython",
    "version": 3
   },
   "file_extension": ".py",
   "mimetype": "text/x-python",
   "name": "python",
   "nbconvert_exporter": "python",
   "pygments_lexer": "ipython3",
   "version": "3.10.12"
  }
 },
 "nbformat": 4,
 "nbformat_minor": 2
}
